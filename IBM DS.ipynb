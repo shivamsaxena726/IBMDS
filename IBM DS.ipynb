{
 "cells": [
  {
   "cell_type": "markdown",
   "id": "86382338-bff9-4096-a794-88bdd6667284",
   "metadata": {},
   "source": [
    "\"My Jupyter Notebook on GitHub\""
   ]
  },
  {
   "cell_type": "markdown",
   "id": "2fc0a38f-6f23-427f-8942-b1d2e3663c2a",
   "metadata": {},
   "source": [
    "**Shivam Saxena**\n",
    "\n",
    "Data Analyst"
   ]
  },
  {
   "cell_type": "markdown",
   "id": "1dacd5c6-4c18-434b-9200-26b456ce629e",
   "metadata": {},
   "source": [
    "*I am interested in data science because i am fascinated by it and it is a great opportunity career wise*"
   ]
  },
  {
   "cell_type": "markdown",
   "id": "2effd770-5f0e-47ed-9890-ac6a601cf1ab",
   "metadata": {},
   "source": [
    "### My code is going to add two numbers 2 and 5 as input ###"
   ]
  },
  {
   "cell_type": "code",
   "execution_count": 5,
   "id": "76b749d4-c350-4df9-9680-89de7446f269",
   "metadata": {},
   "outputs": [
    {
     "name": "stdout",
     "output_type": "stream",
     "text": [
      "7\n"
     ]
    }
   ],
   "source": [
    "def summ(x,y):\n",
    "    return x+y\n",
    "print(summ(2,5))"
   ]
  },
  {
   "cell_type": "markdown",
   "id": "57c36bae-2e0c-4029-8b3c-f0fd4b18b7ce",
   "metadata": {},
   "source": [
    "1. ss\n",
    "2. sv\n",
    "3. sd"
   ]
  },
  {
   "cell_type": "markdown",
   "id": "b79b5b90-c17e-4a97-a1fe-84bb2d990b2c",
   "metadata": {},
   "source": [
    "Readingnotebooks is fun.\n",
    "---\n",
    "Sure !!"
   ]
  },
  {
   "cell_type": "markdown",
   "id": "fd0d0d1f-1503-46b4-b97a-426c71841292",
   "metadata": {},
   "source": [
    "~this is wrong~"
   ]
  },
  {
   "cell_type": "code",
   "execution_count": null,
   "id": "35eff1e3-5d07-4517-8c20-155ba63501a0",
   "metadata": {},
   "outputs": [],
   "source": []
  }
 ],
 "metadata": {
  "kernelspec": {
   "display_name": "Python 3",
   "language": "python",
   "name": "python3"
  },
  "language_info": {
   "codemirror_mode": {
    "name": "ipython",
    "version": 3
   },
   "file_extension": ".py",
   "mimetype": "text/x-python",
   "name": "python",
   "nbconvert_exporter": "python",
   "pygments_lexer": "ipython3",
   "version": "3.9.2"
  }
 },
 "nbformat": 4,
 "nbformat_minor": 5
}
